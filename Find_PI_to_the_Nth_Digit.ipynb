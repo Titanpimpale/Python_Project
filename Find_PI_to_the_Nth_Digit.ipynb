{
  "nbformat": 4,
  "nbformat_minor": 0,
  "metadata": {
    "colab": {
      "provenance": [],
      "authorship_tag": "ABX9TyP5Cf5Fh7Qnk0noKY5GrmrO",
      "include_colab_link": true
    },
    "kernelspec": {
      "name": "python3",
      "display_name": "Python 3"
    },
    "language_info": {
      "name": "python"
    }
  },
  "cells": [
    {
      "cell_type": "markdown",
      "metadata": {
        "id": "view-in-github",
        "colab_type": "text"
      },
      "source": [
        "<a href=\"https://colab.research.google.com/github/Titanpimpale/Python_Project/blob/main/Find_PI_to_the_Nth_Digit.ipynb\" target=\"_parent\"><img src=\"https://colab.research.google.com/assets/colab-badge.svg\" alt=\"Open In Colab\"/></a>"
      ]
    },
    {
      "cell_type": "code",
      "execution_count": 4,
      "metadata": {
        "colab": {
          "base_uri": "https://localhost:8080/"
        },
        "id": "Y_EkHKgUd-BB",
        "outputId": "d1ab3bf7-e93c-47a0-e1d4-d3c96311fdc0"
      },
      "outputs": [
        {
          "name": "stdout",
          "output_type": "stream",
          "text": [
            "Enter number till which digit you want a pi decimal? number 50\n"
          ]
        }
      ],
      "source": [
        "Number =  int (input(\"Enter number till which digit you want a pi decimal? number \"))"
      ]
    },
    {
      "cell_type": "code",
      "source": [
        "import math\n",
        "def pi(Number):\n",
        "  result = 22/7\n",
        "  format = \"{:.{n}f}\".format(result,n=Number)\n",
        "  return format\n",
        "\n",
        "result = pi(Number)\n"
      ],
      "metadata": {
        "id": "Uz-e5X7nefub"
      },
      "execution_count": 5,
      "outputs": []
    },
    {
      "cell_type": "code",
      "source": [
        "print(result)"
      ],
      "metadata": {
        "colab": {
          "base_uri": "https://localhost:8080/"
        },
        "id": "ok95aGkogBhf",
        "outputId": "841082ff-4153-4bfe-c8ac-f68034a84eb6"
      },
      "execution_count": 6,
      "outputs": [
        {
          "output_type": "stream",
          "name": "stdout",
          "text": [
            "3.14285714285714279370154144999105483293533325195312\n"
          ]
        }
      ]
    },
    {
      "cell_type": "code",
      "source": [],
      "metadata": {
        "id": "IaHmt97SgEcl"
      },
      "execution_count": null,
      "outputs": []
    }
  ]
}