{
  "nbformat": 4,
  "nbformat_minor": 0,
  "metadata": {
    "colab": {
      "provenance": [],
      "authorship_tag": "ABX9TyMhZDHzE6rSr4u0OHW3207C",
      "include_colab_link": true
    },
    "kernelspec": {
      "name": "python3",
      "display_name": "Python 3"
    },
    "language_info": {
      "name": "python"
    }
  },
  "cells": [
    {
      "cell_type": "markdown",
      "metadata": {
        "id": "view-in-github",
        "colab_type": "text"
      },
      "source": [
        "<a href=\"https://colab.research.google.com/github/Titanpimpale/Python_Project/blob/main/mortage_calculator.ipynb\" target=\"_parent\"><img src=\"https://colab.research.google.com/assets/colab-badge.svg\" alt=\"Open In Colab\"/></a>"
      ]
    },
    {
      "cell_type": "code",
      "execution_count": 3,
      "metadata": {
        "colab": {
          "base_uri": "https://localhost:8080/"
        },
        "id": "90RVQxQ87QgP",
        "outputId": "ed2d5370-6adc-4023-e694-20009b0a3ed1"
      },
      "outputs": [
        {
          "output_type": "stream",
          "name": "stdout",
          "text": [
            "********Welcome to MOrtage calculator*********\n"
          ]
        }
      ],
      "source": [
        "print(\"********Welcome to MOrtage calculator*********\")"
      ]
    },
    {
      "cell_type": "code",
      "source": [
        "def logics():\n",
        "  print(\"Please enter detail about your loan below \")\n",
        "  amount  = int(input(\"Enter your loan amount: \"))\n",
        "  interest1  = int (input(\"Enter your loan interest rate: \"))\n",
        "  interest = interest1/100\n",
        "  term  = int (input(\"Enter your loan term period(in months): \"))\n",
        "  print (\"Thank you ;) please wait\")\n",
        "  mp = (amount * interest * (1 + interest) ** term ) / ((1 + interest)**term -1)\n",
        "  print (f\"Your Monthly payment is {mp}\")"
      ],
      "metadata": {
        "id": "6Sw_QUEa9VGp"
      },
      "execution_count": 21,
      "outputs": []
    },
    {
      "cell_type": "code",
      "source": [
        "logics()"
      ],
      "metadata": {
        "colab": {
          "base_uri": "https://localhost:8080/"
        },
        "id": "O2GuUwfD-bpA",
        "outputId": "3c458049-a4f4-49fd-8fae-8ac2f9e7c19e"
      },
      "execution_count": 22,
      "outputs": [
        {
          "output_type": "stream",
          "name": "stdout",
          "text": [
            "Please enter detail about your loan below \n",
            "Enter your loan amount: 500\n",
            "Enter your loan interest rate: 2\n",
            "Enter your loan term period(in months): 3\n",
            "Thank you ;) please wait\n",
            "Your Monthly payment is 173.37733629590863\n"
          ]
        }
      ]
    },
    {
      "cell_type": "code",
      "source": [
        "def logic():\n",
        "  #M) = P[r(1 + r)^n] / [(11+ + r)^n - 1]\n",
        "  monthly_payment = (amount * interest * (1 + interest) ** term ) / ((1 + interest) ** term - 1)"
      ],
      "metadata": {
        "id": "XjJR7-Bn-t56"
      },
      "execution_count": null,
      "outputs": []
    }
  ]
}