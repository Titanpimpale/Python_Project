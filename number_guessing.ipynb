{
  "nbformat": 4,
  "nbformat_minor": 0,
  "metadata": {
    "colab": {
      "provenance": [],
      "authorship_tag": "ABX9TyOKVkJXlP3d7zf/eI4z8ZBU",
      "include_colab_link": true
    },
    "kernelspec": {
      "name": "python3",
      "display_name": "Python 3"
    },
    "language_info": {
      "name": "python"
    }
  },
  "cells": [
    {
      "cell_type": "markdown",
      "metadata": {
        "id": "view-in-github",
        "colab_type": "text"
      },
      "source": [
        "<a href=\"https://colab.research.google.com/github/Titanpimpale/Python_Project/blob/main/number_guessing.ipynb\" target=\"_parent\"><img src=\"https://colab.research.google.com/assets/colab-badge.svg\" alt=\"Open In Colab\"/></a>"
      ]
    },
    {
      "cell_type": "code",
      "execution_count": 7,
      "metadata": {
        "id": "CdWJ1EXXEgFj"
      },
      "outputs": [],
      "source": [
        "import random"
      ]
    },
    {
      "cell_type": "code",
      "source": [
        "top_of_range = input(\"Enter a number: \")"
      ],
      "metadata": {
        "colab": {
          "base_uri": "https://localhost:8080/"
        },
        "id": "tkWyzVNxEs7H",
        "outputId": "5952cc6d-e793-4f57-871e-8b98cb03853d"
      },
      "execution_count": 8,
      "outputs": [
        {
          "name": "stdout",
          "output_type": "stream",
          "text": [
            "Enter a number: 5\n"
          ]
        }
      ]
    },
    {
      "cell_type": "code",
      "source": [
        "if top_of_range.isdigit():\n",
        "    top_of_range = int(top_of_range) # Convert to integer only if it's a digit string\n",
        "    if top_of_range < 0:\n",
        "        print(\"Enter a number above 0\")\n",
        "    # ... rest of your code ...\n",
        "else:\n",
        "    print(\"Enter a number next time\")\n",
        "    quit()\n"
      ],
      "metadata": {
        "id": "m7ACVP24Ez1J"
      },
      "execution_count": 9,
      "outputs": []
    },
    {
      "cell_type": "code",
      "source": [
        "random_number = random.randint(0,top_of_range)"
      ],
      "metadata": {
        "id": "IQLWfK5eFOlH"
      },
      "execution_count": 23,
      "outputs": []
    },
    {
      "cell_type": "code",
      "source": [
        "guesses = 0"
      ],
      "metadata": {
        "id": "mcdoL31CGncG"
      },
      "execution_count": 24,
      "outputs": []
    },
    {
      "cell_type": "code",
      "source": [
        "while True:\n",
        "  guesses +=1\n",
        "  user_guess = input(\"Make a guess: \")\n",
        "  if user_guess.isdigit():\n",
        "    user_guess = int(user_guess)\n",
        "  else:\n",
        "    print(\"Enter a number next time\")\n",
        "    continue\n",
        "\n",
        "  if user_guess == random_number:\n",
        "    print(\"You got it!\")\n",
        "    break\n",
        "\n",
        "  elif user_guess > random_number:\n",
        "    print(\"you are above\")\n",
        "\n",
        "  else:\n",
        "    print(\"You are below\")\n",
        "\n",
        "print(\"You got it in\",guesses,\" gueses\")\n",
        ""
      ],
      "metadata": {
        "colab": {
          "base_uri": "https://localhost:8080/"
        },
        "id": "dO3sZntWFeIZ",
        "outputId": "6935d76a-6d59-4f40-f993-4803b2d75745"
      },
      "execution_count": 25,
      "outputs": [
        {
          "output_type": "stream",
          "name": "stdout",
          "text": [
            "Make a guess: 5\n",
            "you are above\n",
            "Make a guess: 0\n",
            "You got it!\n",
            "You got it in 2  gueses\n"
          ]
        }
      ]
    }
  ]
}