{
 "cells": [
  {
   "cell_type": "code",
   "execution_count": 1,
   "id": "2be9b5ee",
   "metadata": {},
   "outputs": [
    {
     "name": "stdout",
     "output_type": "stream",
     "text": [
      "Welcome! to Krishna quiz game\n"
     ]
    }
   ],
   "source": [
    "print(\"Welcome! to Krishna quiz game\")"
   ]
  },
  {
   "cell_type": "code",
   "execution_count": 3,
   "id": "529764f5",
   "metadata": {},
   "outputs": [
    {
     "name": "stdout",
     "output_type": "stream",
     "text": [
      "Do you want to play game? YES\n"
     ]
    }
   ],
   "source": [
    "choice = input (\"Do you want to play game? \")\n",
    "if choice.lower() != \"yes\":\n",
    "    quit()"
   ]
  },
  {
   "cell_type": "code",
   "execution_count": 4,
   "id": "7636e84f",
   "metadata": {},
   "outputs": [
    {
     "name": "stdout",
     "output_type": "stream",
     "text": [
      "Let, get started HARE KRISHNA\n"
     ]
    }
   ],
   "source": [
    "print (\"Let, get started HARE KRISHNA\")"
   ]
  },
  {
   "cell_type": "code",
   "execution_count": 6,
   "id": "ba293806",
   "metadata": {},
   "outputs": [
    {
     "name": "stdout",
     "output_type": "stream",
     "text": [
      "what is kali yuga maha-mantra Hare krishNa\n",
      "Correct!\n"
     ]
    }
   ],
   "source": [
    "score = 0\n",
    "answer = input(\"what is kali yuga maha-mantra \")\n",
    "if answer.lower() == \"hare krishna\":\n",
    "    print(\"Correct!\")\n",
    "    score += 1\n",
    "else:\n",
    "    print(\"Incorrect!\")"
   ]
  },
  {
   "cell_type": "code",
   "execution_count": 7,
   "id": "a63b41d3",
   "metadata": {},
   "outputs": [
    {
     "name": "stdout",
     "output_type": "stream",
     "text": [
      "who spoke bhagavad gita? KrishnA\n",
      "Correct!\n"
     ]
    }
   ],
   "source": [
    "answer = input(\"who spoke bhagavad gita? \")\n",
    "if answer.lower() == \"krishna\":\n",
    "    print(\"Correct!\")\n",
    "    score += 1\n",
    "else:\n",
    "    print(\"Incorrect!\")"
   ]
  },
  {
   "cell_type": "code",
   "execution_count": 8,
   "id": "0e4f50a5",
   "metadata": {},
   "outputs": [
    {
     "name": "stdout",
     "output_type": "stream",
     "text": [
      "who is Krishna? Supreme \n",
      "Incorrect!\n"
     ]
    }
   ],
   "source": [
    "answer = input(\"who is Krishna? \")\n",
    "if answer.lower() == \"god\":\n",
    "    print(\"Correct!\")\n",
    "    score += 1\n",
    "else:\n",
    "    print(\"Incorrect!\")"
   ]
  },
  {
   "cell_type": "code",
   "execution_count": 9,
   "id": "a16eaaf8",
   "metadata": {},
   "outputs": [
    {
     "name": "stdout",
     "output_type": "stream",
     "text": [
      "who is Caitanya Mahaprabhu? krishna\n",
      "Correct!\n"
     ]
    }
   ],
   "source": [
    "answer = input(\"who is Caitanya Mahaprabhu? \")\n",
    "if answer.lower() == \"krishna\":\n",
    "    print(\"Correct!\")\n",
    "    score += 1\n",
    "else:\n",
    "    print(\"Incorrect!\")"
   ]
  },
  {
   "cell_type": "code",
   "execution_count": 15,
   "id": "74af1b00",
   "metadata": {},
   "outputs": [
    {
     "name": "stdout",
     "output_type": "stream",
     "text": [
      "YOU GOT 3 CORRECT. CONGRATULATIONS!!\n"
     ]
    }
   ],
   "source": [
    "print(\"YOU GOT \" +str(score)+ \" CORRECT. CONGRATULATIONS!!\" )"
   ]
  },
  {
   "cell_type": "code",
   "execution_count": 20,
   "id": "8a70c1d4",
   "metadata": {},
   "outputs": [
    {
     "name": "stdout",
     "output_type": "stream",
     "text": [
      "YOU GOT 75.0%\n"
     ]
    }
   ],
   "source": [
    "print(\"YOU GOT \"+ str(((score) /4) *100)+ \"%\" )"
   ]
  },
  {
   "cell_type": "code",
   "execution_count": null,
   "id": "c2ff266f",
   "metadata": {},
   "outputs": [],
   "source": []
  }
 ],
 "metadata": {
  "kernelspec": {
   "display_name": "Python 3 (ipykernel)",
   "language": "python",
   "name": "python3"
  },
  "language_info": {
   "codemirror_mode": {
    "name": "ipython",
    "version": 3
   },
   "file_extension": ".py",
   "mimetype": "text/x-python",
   "name": "python",
   "nbconvert_exporter": "python",
   "pygments_lexer": "ipython3",
   "version": "3.9.12"
  }
 },
 "nbformat": 4,
 "nbformat_minor": 5
}
