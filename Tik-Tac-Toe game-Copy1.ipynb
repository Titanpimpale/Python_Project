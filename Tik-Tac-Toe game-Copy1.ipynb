{
 "cells": [
  {
   "cell_type": "code",
   "execution_count": 1,
   "id": "c2239a9c",
   "metadata": {},
   "outputs": [],
   "source": [
    "from IPython.display import clear_output"
   ]
  },
  {
   "cell_type": "code",
   "execution_count": 2,
   "id": "bfdb5fc3",
   "metadata": {},
   "outputs": [],
   "source": [
    "def display_board(board):     #simple displaying board \n",
    "    clear_output()\n",
    "    print (' '+board[7]+' | '+board[8]+' | '+board[9])\n",
    "    print ('-----------')\n",
    "    print (' '+board[4]+' | '+board[5]+' | '+board[6])\n",
    "    print ('-----------')\n",
    "    print (' '+board[1]+' | '+board[2]+' | '+board[3])"
   ]
  },
  {
   "cell_type": "code",
   "execution_count": null,
   "id": "25193914",
   "metadata": {},
   "outputs": [],
   "source": []
  },
  {
   "cell_type": "code",
   "execution_count": 3,
   "id": "48c610a4",
   "metadata": {},
   "outputs": [
    {
     "name": "stdout",
     "output_type": "stream",
     "text": [
      " X | O | X\n",
      "-----------\n",
      " O | X | O\n",
      "-----------\n",
      " X | O | X\n"
     ]
    }
   ],
   "source": [
    "test_board = ['#','X','O','X','O','X','O','X','O','X'] #test\n",
    "display_board(test_board)"
   ]
  },
  {
   "cell_type": "code",
   "execution_count": 4,
   "id": "ba85c763",
   "metadata": {
    "scrolled": true
   },
   "outputs": [],
   "source": [
    "def player_input():             #take input from user and assign it to tuple \n",
    "    marker = ''\n",
    "    \n",
    "    while not (marker == 'X' or marker == 'O'):\n",
    "        marker = input('Player 1: Do you want to be X or O? ').upper()\n",
    "\n",
    "    if marker == 'X':\n",
    "        return ('X', 'O')\n",
    "    else:\n",
    "        return ('O', 'X')"
   ]
  },
  {
   "cell_type": "code",
   "execution_count": 5,
   "id": "b74e87e9",
   "metadata": {},
   "outputs": [
    {
     "name": "stdout",
     "output_type": "stream",
     "text": [
      "Player 1: Do you want to be X or O? x\n"
     ]
    },
    {
     "data": {
      "text/plain": [
       "('X', 'O')"
      ]
     },
     "execution_count": 5,
     "metadata": {},
     "output_type": "execute_result"
    }
   ],
   "source": [
    "player_input()     #test"
   ]
  },
  {
   "cell_type": "code",
   "execution_count": 6,
   "id": "4dabe12d",
   "metadata": {},
   "outputs": [],
   "source": [
    "def place_marker(board, marker , position):       #allow user to make x and o in desired position\n",
    "    board[position] = marker"
   ]
  },
  {
   "cell_type": "code",
   "execution_count": 7,
   "id": "6bdc1d80",
   "metadata": {},
   "outputs": [
    {
     "name": "stdout",
     "output_type": "stream",
     "text": [
      " X | O | X\n",
      "-----------\n",
      " O | X | O\n",
      "-----------\n",
      " X | O | X\n"
     ]
    }
   ],
   "source": [
    "place_marker(test_board,'X',5)    #test\n",
    "display_board(test_board)"
   ]
  },
  {
   "cell_type": "code",
   "execution_count": 8,
   "id": "d47b7477",
   "metadata": {},
   "outputs": [],
   "source": [
    "def win_check(board,mark):             #checks all winning possiblity\n",
    "   return ((board[7] == mark and board[8] == mark and board[9] == mark) or\n",
    "          (board[4] == mark and board[5] == mark and board[6] == mark) or\n",
    "          (board[1] == mark and board[2] == mark and board[3] == mark) or\n",
    "          (board[1] == mark and board[4] == mark and board[7] == mark) or\n",
    "          (board[2] == mark and board[5] == mark and board[8] == mark) or\n",
    "          (board[3] == mark and board[6] == mark and board[9] == mark) or\n",
    "          (board[1] == mark and board[5] == mark and board[9] == mark) or\n",
    "          (board[7] == mark and board[5] == mark and board[3] == mark) )"
   ]
  },
  {
   "cell_type": "code",
   "execution_count": 9,
   "id": "b7add608",
   "metadata": {},
   "outputs": [
    {
     "data": {
      "text/plain": [
       "True"
      ]
     },
     "execution_count": 9,
     "metadata": {},
     "output_type": "execute_result"
    }
   ],
   "source": [
    "win_check(test_board,'X')"
   ]
  },
  {
   "cell_type": "code",
   "execution_count": 10,
   "id": "508c3eb2",
   "metadata": {},
   "outputs": [],
   "source": [
    "import random          #randomly return who will play first turn\n",
    "def choose_first():\n",
    "    choose = random.randint(1,2)\n",
    "    if choose == 1:\n",
    "        return 'Player 1'\n",
    "    else :\n",
    "        return 'Player 2'"
   ]
  },
  {
   "cell_type": "code",
   "execution_count": null,
   "id": "dc0f8629",
   "metadata": {},
   "outputs": [],
   "source": []
  },
  {
   "cell_type": "code",
   "execution_count": 11,
   "id": "d7b9411a",
   "metadata": {},
   "outputs": [],
   "source": [
    "def space_check(board,position):  #returns all position blank \n",
    "    return board[position] == ' '"
   ]
  },
  {
   "cell_type": "code",
   "execution_count": 12,
   "id": "3a47936c",
   "metadata": {},
   "outputs": [],
   "source": [
    "def full_board_check(board):   #checks all position if its filled or empty\n",
    "    for i in range(1,10):\n",
    "        if space_check(board,i):\n",
    "            return False\n",
    "    return True\n",
    "        "
   ]
  },
  {
   "cell_type": "code",
   "execution_count": 13,
   "id": "9f87a23b",
   "metadata": {},
   "outputs": [],
   "source": [
    "def player_choice(board):        #takes input from user and also checks space on board \n",
    "    position = 0\n",
    "    while position not in [1,2,3,4,5,6,7,8,9] or not space_check(board,position):\n",
    "        position = int(input(\"enter position from (1-9): \"))\n",
    "        \n",
    "    return position"
   ]
  },
  {
   "cell_type": "code",
   "execution_count": 14,
   "id": "1a704498",
   "metadata": {},
   "outputs": [],
   "source": [
    "def replay():     #function for playing again \n",
    "     return input('Do you want to play again? Enter Yes or No: ').lower().startswith('y')"
   ]
  },
  {
   "cell_type": "code",
   "execution_count": null,
   "id": "06c06944",
   "metadata": {},
   "outputs": [
    {
     "name": "stdout",
     "output_type": "stream",
     "text": [
      "   |   | O\n",
      "-----------\n",
      "   | X |  \n",
      "-----------\n",
      "   |   |  \n"
     ]
    }
   ],
   "source": [
    "print ('Welcome welcome welcome!!')\n",
    "while True:\n",
    "    the_board = [' ']*10\n",
    "    player1_marker , player2_marker = player_input() #tuple unpacking\n",
    "    \n",
    "    turn = choose_first()\n",
    "    print (turn +' will go first')\n",
    "    \n",
    "    play_game = input ('ready to play?Y or N').lower() #start of game and confirmation from user to start a game\n",
    "    \n",
    "    if play_game == 'y':\n",
    "        game_on = True\n",
    "    else :\n",
    "        game_on = False\n",
    "    \n",
    "    while game_on:   #game begin \n",
    "        \n",
    "        if turn == 'Player 1':\n",
    "            #displaying board\n",
    "            display_board(the_board)\n",
    "            #input from user mark it on board\n",
    "            position = player_choice(the_board)\n",
    "            place_marker(the_board,player1_marker,position)\n",
    "            \n",
    "            if win_check (the_board,player1_marker):\n",
    "                \n",
    "                display_board(the_board)\n",
    "                print (\"Player 1 WINS!!!\")       #condition for winning\n",
    "                game_on = False\n",
    "                \n",
    "            else:\n",
    "                \n",
    "                if full_board_check(the_board):\n",
    "                    display_board(the_board)\n",
    "                    print ('TIE Game')\n",
    "                    break\n",
    "                else:\n",
    "                    \n",
    "                    turn = 'Player 2'\n",
    "                    \n",
    "        else :\n",
    "            #player 2 turn\n",
    "            display_board(the_board)\n",
    "            position = player_choice(the_board)\n",
    "            place_marker(the_board,player2_marker,position)\n",
    "            \n",
    "            if win_check (the_board,player2_marker):\n",
    "                display_board(the_board)\n",
    "                print (\"Player 2 WINS!!!\")\n",
    "                game_on = False\n",
    "            else:\n",
    "                if full_board_check(the_board):\n",
    "                    display_board(the_board)\n",
    "                    print ('TIE Game')\n",
    "                    break\n",
    "                else:\n",
    "                    turn = 'Player 1'\n",
    "    \n",
    "    if not replay():\n",
    "        break"
   ]
  },
  {
   "cell_type": "markdown",
   "id": "8fa6f7ac",
   "metadata": {},
   "source": []
  },
  {
   "cell_type": "code",
   "execution_count": null,
   "id": "0265a459",
   "metadata": {},
   "outputs": [],
   "source": []
  },
  {
   "cell_type": "code",
   "execution_count": null,
   "id": "c961681d",
   "metadata": {},
   "outputs": [],
   "source": []
  },
  {
   "cell_type": "code",
   "execution_count": null,
   "id": "2f19ea6d",
   "metadata": {},
   "outputs": [],
   "source": []
  }
 ],
 "metadata": {
  "kernelspec": {
   "display_name": "Python 3 (ipykernel)",
   "language": "python",
   "name": "python3"
  },
  "language_info": {
   "codemirror_mode": {
    "name": "ipython",
    "version": 3
   },
   "file_extension": ".py",
   "mimetype": "text/x-python",
   "name": "python",
   "nbconvert_exporter": "python",
   "pygments_lexer": "ipython3",
   "version": "3.9.12"
  }
 },
 "nbformat": 4,
 "nbformat_minor": 5
}
