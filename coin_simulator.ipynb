{
  "nbformat": 4,
  "nbformat_minor": 0,
  "metadata": {
    "colab": {
      "provenance": [],
      "toc_visible": true,
      "authorship_tag": "ABX9TyNYId+KiYPRgZxXtvZ+nK0d",
      "include_colab_link": true
    },
    "kernelspec": {
      "name": "python3",
      "display_name": "Python 3"
    },
    "language_info": {
      "name": "python"
    }
  },
  "cells": [
    {
      "cell_type": "markdown",
      "metadata": {
        "id": "view-in-github",
        "colab_type": "text"
      },
      "source": [
        "<a href=\"https://colab.research.google.com/github/Titanpimpale/Python_Project/blob/main/coin_simulator.ipynb\" target=\"_parent\"><img src=\"https://colab.research.google.com/assets/colab-badge.svg\" alt=\"Open In Colab\"/></a>"
      ]
    },
    {
      "cell_type": "code",
      "execution_count": 1,
      "metadata": {
        "id": "Vp6PJLhTn_hH"
      },
      "outputs": [],
      "source": [
        "import random\n"
      ]
    },
    {
      "cell_type": "code",
      "source": [],
      "metadata": {
        "id": "R-siEMeHoKBx"
      },
      "execution_count": 3,
      "outputs": []
    },
    {
      "cell_type": "code",
      "source": [
        "def coin():\n",
        "  user =  int(input(\"Enter Number of times you want to flip a coin: \"))\n",
        "\n",
        "  flip = 0\n",
        "  Result = []\n",
        "  while flip<=user:\n",
        "    random_number = random.choice([0, 1])\n",
        "    if random_number == 0:\n",
        "      Result.append(\"TAILS\")\n",
        "    else :\n",
        "      Result.append(\"HEADS\")\n",
        "    flip += 1\n",
        "\n",
        "  print(Result)"
      ],
      "metadata": {
        "id": "K7seRVGBotSG"
      },
      "execution_count": 21,
      "outputs": []
    },
    {
      "cell_type": "code",
      "source": [
        "coin()"
      ],
      "metadata": {
        "colab": {
          "base_uri": "https://localhost:8080/"
        },
        "id": "WPg-uztypSp_",
        "outputId": "0ac108e7-4654-41d7-c4b3-601321652245"
      },
      "execution_count": 22,
      "outputs": [
        {
          "output_type": "stream",
          "name": "stdout",
          "text": [
            "Enter Number of times you want to flip a coin: 7\n",
            "['TAILS', 'HEADS', 'TAILS', 'HEADS', 'HEADS', 'HEADS', 'TAILS', 'TAILS']\n"
          ]
        }
      ]
    },
    {
      "cell_type": "code",
      "source": [],
      "metadata": {
        "id": "XYuBm9yQrlAd"
      },
      "execution_count": 17,
      "outputs": []
    }
  ]
}